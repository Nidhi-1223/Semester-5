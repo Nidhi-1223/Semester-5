{
 "cells": [
  {
   "cell_type": "code",
   "execution_count": 2,
   "metadata": {
    "_cell_guid": "b1076dfc-b9ad-4769-8c92-a6c4dae69d19",
    "_uuid": "8f2839f25d086af736a60e9eeb907d3b93b6e0e5",
    "execution": {
     "iopub.execute_input": "2022-07-11T04:50:26.096355Z",
     "iopub.status.busy": "2022-07-11T04:50:26.095869Z",
     "iopub.status.idle": "2022-07-11T04:50:26.104521Z",
     "shell.execute_reply": "2022-07-11T04:50:26.103728Z",
     "shell.execute_reply.started": "2022-07-11T04:50:26.096317Z"
    }
   },
   "outputs": [],
   "source": [
    "# This Python 3 environment comes with many helpful analytics libraries installed\n",
    "# It is defined by the kaggle/python Docker image: https://github.com/kaggle/docker-python\n",
    "# For example, here's several helpful packages to load\n",
    "\n",
    "import numpy as np # linear algebra\n",
    "import pandas as pd # data processing, CSV file I/O (e.g. pd.read_csv)\n",
    "\n",
    "# Input data files are available in the read-only \"../input/\" directory\n",
    "# For example, running this (by clicking run or pressing Shift+Enter) will list all files under the input directory\n",
    "\n",
    "import os\n",
    "for dirname, _, filenames in os.walk('/kaggle/input'):\n",
    "    for filename in filenames:\n",
    "        print(os.path.join(dirname, filename))\n",
    "\n",
    "# You can write up to 20GB to the current directory (/kaggle/working/) that gets preserved as output when you create a version using \"Save & Run All\" \n",
    "# You can also write temporary files to /kaggle/temp/, but they won't be saved outside of the current session"
   ]
  },
  {
   "cell_type": "code",
   "execution_count": 29,
   "metadata": {
    "execution": {
     "iopub.execute_input": "2022-07-11T05:20:26.879584Z",
     "iopub.status.busy": "2022-07-11T05:20:26.879193Z",
     "iopub.status.idle": "2022-07-11T05:20:26.901372Z",
     "shell.execute_reply": "2022-07-11T05:20:26.900641Z",
     "shell.execute_reply.started": "2022-07-11T05:20:26.879551Z"
    }
   },
   "outputs": [],
   "source": [
    "data = pd.read_csv('/kaggle/input/find-s-algorithm-dataset/ws.csv',names=['sky','Temp','Humidity','Wind','Water','Forecast','Enjoy Sport'])\n",
    "data\n"
   ]
  },
  {
   "cell_type": "code",
   "execution_count": 5,
   "metadata": {
    "execution": {
     "iopub.execute_input": "2022-07-11T04:55:32.283824Z",
     "iopub.status.busy": "2022-07-11T04:55:32.283396Z",
     "iopub.status.idle": "2022-07-11T04:55:32.290356Z",
     "shell.execute_reply": "2022-07-11T04:55:32.289521Z",
     "shell.execute_reply.started": "2022-07-11T04:55:32.283790Z"
    }
   },
   "outputs": [],
   "source": [
    "h0 = np.zeros(6)\n",
    "h0\n"
   ]
  },
  {
   "cell_type": "code",
   "execution_count": 19,
   "metadata": {
    "execution": {
     "iopub.execute_input": "2022-07-11T05:14:28.354225Z",
     "iopub.status.busy": "2022-07-11T05:14:28.353762Z",
     "iopub.status.idle": "2022-07-11T05:14:28.369604Z",
     "shell.execute_reply": "2022-07-11T05:14:28.368171Z",
     "shell.execute_reply.started": "2022-07-11T05:14:28.354190Z"
    }
   },
   "outputs": [],
   "source": [
    "data_column_dropped = data.drop(columns=['Enjoy Sport'],index=[2])\n",
    "data_column_dropped"
   ]
  },
  {
   "cell_type": "code",
   "execution_count": 17,
   "metadata": {
    "execution": {
     "iopub.execute_input": "2022-07-11T05:09:28.491555Z",
     "iopub.status.busy": "2022-07-11T05:09:28.491139Z",
     "iopub.status.idle": "2022-07-11T05:09:28.499362Z",
     "shell.execute_reply": "2022-07-11T05:09:28.498166Z",
     "shell.execute_reply.started": "2022-07-11T05:09:28.491521Z"
    }
   },
   "outputs": [],
   "source": [
    "first_row = data_column_dropped.iloc[0].tolist()\n",
    "first_row"
   ]
  },
  {
   "cell_type": "code",
   "execution_count": 39,
   "metadata": {
    "execution": {
     "iopub.execute_input": "2022-07-11T05:23:03.606172Z",
     "iopub.status.busy": "2022-07-11T05:23:03.605741Z",
     "iopub.status.idle": "2022-07-11T05:23:03.612924Z",
     "shell.execute_reply": "2022-07-11T05:23:03.612144Z",
     "shell.execute_reply.started": "2022-07-11T05:23:03.606138Z"
    }
   },
   "outputs": [],
   "source": [
    "data_target = np.array(data)[:,-1]\n",
    "data_target"
   ]
  },
  {
   "cell_type": "code",
   "execution_count": 38,
   "metadata": {
    "execution": {
     "iopub.execute_input": "2022-07-11T05:22:37.495080Z",
     "iopub.status.busy": "2022-07-11T05:22:37.494683Z",
     "iopub.status.idle": "2022-07-11T05:22:37.503027Z",
     "shell.execute_reply": "2022-07-11T05:22:37.501933Z",
     "shell.execute_reply.started": "2022-07-11T05:22:37.495039Z"
    }
   },
   "outputs": [],
   "source": [
    "data_attributes = np.array(data)[:,:-1]\n",
    "data_attributes"
   ]
  },
  {
   "cell_type": "code",
   "execution_count": 30,
   "metadata": {
    "execution": {
     "iopub.execute_input": "2022-07-11T05:20:34.654738Z",
     "iopub.status.busy": "2022-07-11T05:20:34.654347Z",
     "iopub.status.idle": "2022-07-11T05:20:34.668517Z",
     "shell.execute_reply": "2022-07-11T05:20:34.667372Z",
     "shell.execute_reply.started": "2022-07-11T05:20:34.654707Z"
    }
   },
   "outputs": [],
   "source": [
    "data"
   ]
  },
  {
   "cell_type": "code",
   "execution_count": 41,
   "metadata": {
    "execution": {
     "iopub.execute_input": "2022-07-11T05:31:35.664108Z",
     "iopub.status.busy": "2022-07-11T05:31:35.663725Z",
     "iopub.status.idle": "2022-07-11T05:31:35.671225Z",
     "shell.execute_reply": "2022-07-11T05:31:35.670298Z",
     "shell.execute_reply.started": "2022-07-11T05:31:35.664069Z"
    }
   },
   "outputs": [],
   "source": [
    "def train(c,t):\n",
    "    #c - attributes, t = target\n",
    "    for i, val in enumerate(t):\n",
    "        if val == 'Yes':\n",
    "            specific_hypothesis = c[i].copy()\n",
    "            break\n",
    "    \n",
    "    for i,val in enumerate(c):\n",
    "        if t[i] == 'Yes':\n",
    "            for x in range (len(specific_hypothesis)):\n",
    "                if val[x] != specific_hypothesis[x]:\n",
    "                    specific_hypothesis[x] = '?'\n",
    "                else:\n",
    "                    pass\n",
    "    return specific_hypothesis"
   ]
  },
  {
   "cell_type": "code",
   "execution_count": 42,
   "metadata": {
    "execution": {
     "iopub.execute_input": "2022-07-11T05:32:25.635554Z",
     "iopub.status.busy": "2022-07-11T05:32:25.635196Z",
     "iopub.status.idle": "2022-07-11T05:32:25.641899Z",
     "shell.execute_reply": "2022-07-11T05:32:25.640668Z",
     "shell.execute_reply.started": "2022-07-11T05:32:25.635524Z"
    }
   },
   "outputs": [],
   "source": [
    "print(f'The final hypothesis is - {train(data_attributes,data_target)}')"
   ]
  }
 ],
 "metadata": {
  "kernelspec": {
   "display_name": "Python 3 (ipykernel)",
   "language": "python",
   "name": "python3"
  },
  "language_info": {
   "codemirror_mode": {
    "name": "ipython",
    "version": 3
   },
   "file_extension": ".py",
   "mimetype": "text/x-python",
   "name": "python",
   "nbconvert_exporter": "python",
   "pygments_lexer": "ipython3",
   "version": "3.8.10"
  }
 },
 "nbformat": 4,
 "nbformat_minor": 4
}
